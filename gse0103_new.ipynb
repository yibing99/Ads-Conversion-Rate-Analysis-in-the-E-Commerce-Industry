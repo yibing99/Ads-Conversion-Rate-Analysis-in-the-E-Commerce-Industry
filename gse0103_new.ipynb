{
  "nbformat": 4,
  "nbformat_minor": 0,
  "metadata": {
    "kernelspec": {
      "display_name": "Python 3",
      "language": "python",
      "name": "python3"
    },
    "language_info": {
      "codemirror_mode": {
        "name": "ipython",
        "version": 3
      },
      "file_extension": ".py",
      "mimetype": "text/x-python",
      "name": "python",
      "nbconvert_exporter": "python",
      "pygments_lexer": "ipython3",
      "version": "3.8.5"
    },
    "colab": {
      "name": "gse0103_new.ipynb",
      "provenance": [],
      "include_colab_link": true
    }
  },
  "cells": [
    {
      "cell_type": "markdown",
      "metadata": {
        "id": "view-in-github",
        "colab_type": "text"
      },
      "source": [
        "<a href=\"https://colab.research.google.com/github/yibing99/GSE-PROJECT/blob/main/gse0103_new.ipynb\" target=\"_parent\"><img src=\"https://colab.research.google.com/assets/colab-badge.svg\" alt=\"Open In Colab\"/></a>"
      ]
    },
    {
      "cell_type": "markdown",
      "metadata": {
        "id": "F2nvuY2__9O9"
      },
      "source": [
        "# # Data science project: marketing experiment\n",
        "This project is to analysis e-commerce website UI experiment"
      ]
    },
    {
      "cell_type": "markdown",
      "metadata": {
        "id": "OXBoXw57_9PB"
      },
      "source": [
        "###1.Data wrangling"
      ]
    },
    {
      "cell_type": "code",
      "metadata": {
        "colab": {
          "resources": {
            "http://localhost:8080/nbextensions/google.colab/files.js": {
              "data": "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",
              "ok": true,
              "headers": [
                [
                  "content-type",
                  "application/javascript"
                ]
              ],
              "status": 200,
              "status_text": ""
            }
          },
          "base_uri": "https://localhost:8080/",
          "height": 106
        },
        "id": "SKNpIKo5B62T",
        "outputId": "e6a644ed-314c-45ea-cdfa-ca8f8259950d"
      },
      "source": [
        "from google.colab import files\n",
        "\n",
        "uploaded = files.upload()"
      ],
      "execution_count": 1,
      "outputs": [
        {
          "output_type": "display_data",
          "data": {
            "text/html": [
              "\n",
              "     <input type=\"file\" id=\"files-b317548b-66f4-4389-b580-5df7791c399c\" name=\"files[]\" multiple disabled\n",
              "        style=\"border:none\" />\n",
              "     <output id=\"result-b317548b-66f4-4389-b580-5df7791c399c\">\n",
              "      Upload widget is only available when the cell has been executed in the\n",
              "      current browser session. Please rerun this cell to enable.\n",
              "      </output>\n",
              "      <script src=\"/nbextensions/google.colab/files.js\"></script> "
            ],
            "text/plain": [
              "<IPython.core.display.HTML object>"
            ]
          },
          "metadata": {
            "tags": []
          }
        },
        {
          "output_type": "stream",
          "text": [
            "Saving BAexperiment.csv to BAexperiment.csv\n",
            "Saving BAusers.csv to BAusers.csv\n"
          ],
          "name": "stdout"
        }
      ]
    },
    {
      "cell_type": "code",
      "metadata": {
        "id": "7kgmao08_9PC"
      },
      "source": [
        "import pandas as pd\n",
        "from scipy import stats\n",
        "import matplotlib.pyplot as plt\n",
        "import seaborn as sns\n",
        "%matplotlib inline"
      ],
      "execution_count": 2,
      "outputs": []
    },
    {
      "cell_type": "code",
      "metadata": {
        "id": "E7jh3Qjg_9PC"
      },
      "source": [
        "#read the data\n",
        "experiment=pd.read_csv(\"BAexperiment.csv\")\n",
        "users=pd.read_csv(\"BAusers.csv\")"
      ],
      "execution_count": 3,
      "outputs": []
    },
    {
      "cell_type": "code",
      "metadata": {
        "colab": {
          "base_uri": "https://localhost:8080/",
          "height": 204
        },
        "id": "77CG7ufJ_9PD",
        "outputId": "62fc3ad6-493d-454d-827f-63e93db10bd8"
      },
      "source": [
        "# Let's check what the data look like\n",
        "experiment.head()"
      ],
      "execution_count": 4,
      "outputs": [
        {
          "output_type": "execute_result",
          "data": {
            "text/html": [
              "<div>\n",
              "<style scoped>\n",
              "    .dataframe tbody tr th:only-of-type {\n",
              "        vertical-align: middle;\n",
              "    }\n",
              "\n",
              "    .dataframe tbody tr th {\n",
              "        vertical-align: top;\n",
              "    }\n",
              "\n",
              "    .dataframe thead th {\n",
              "        text-align: right;\n",
              "    }\n",
              "</style>\n",
              "<table border=\"1\" class=\"dataframe\">\n",
              "  <thead>\n",
              "    <tr style=\"text-align: right;\">\n",
              "      <th></th>\n",
              "      <th>user_id</th>\n",
              "      <th>date</th>\n",
              "      <th>interface</th>\n",
              "      <th>language</th>\n",
              "      <th>channel</th>\n",
              "      <th>ads</th>\n",
              "      <th>device</th>\n",
              "      <th>conversion</th>\n",
              "      <th>condition</th>\n",
              "    </tr>\n",
              "  </thead>\n",
              "  <tbody>\n",
              "    <tr>\n",
              "      <th>0</th>\n",
              "      <td>435134</td>\n",
              "      <td>11/30/19</td>\n",
              "      <td>app</td>\n",
              "      <td>English</td>\n",
              "      <td>SEO</td>\n",
              "      <td>NaN</td>\n",
              "      <td>iPhone</td>\n",
              "      <td>0</td>\n",
              "      <td>0</td>\n",
              "    </tr>\n",
              "    <tr>\n",
              "      <th>1</th>\n",
              "      <td>310928</td>\n",
              "      <td>12/4/19</td>\n",
              "      <td>browser</td>\n",
              "      <td>English</td>\n",
              "      <td>Ads</td>\n",
              "      <td>Baidu</td>\n",
              "      <td>Sumsung</td>\n",
              "      <td>0</td>\n",
              "      <td>0</td>\n",
              "    </tr>\n",
              "    <tr>\n",
              "      <th>2</th>\n",
              "      <td>836325</td>\n",
              "      <td>11/30/19</td>\n",
              "      <td>app</td>\n",
              "      <td>English</td>\n",
              "      <td>Ads</td>\n",
              "      <td>Google</td>\n",
              "      <td>iPhone</td>\n",
              "      <td>0</td>\n",
              "      <td>0</td>\n",
              "    </tr>\n",
              "    <tr>\n",
              "      <th>3</th>\n",
              "      <td>298244</td>\n",
              "      <td>12/4/19</td>\n",
              "      <td>browser</td>\n",
              "      <td>English</td>\n",
              "      <td>Referral</td>\n",
              "      <td>NaN</td>\n",
              "      <td>Sumsung</td>\n",
              "      <td>0</td>\n",
              "      <td>0</td>\n",
              "    </tr>\n",
              "    <tr>\n",
              "      <th>4</th>\n",
              "      <td>614947</td>\n",
              "      <td>12/4/19</td>\n",
              "      <td>app</td>\n",
              "      <td>English</td>\n",
              "      <td>Ads</td>\n",
              "      <td>Baidu</td>\n",
              "      <td>iPhone</td>\n",
              "      <td>0</td>\n",
              "      <td>1</td>\n",
              "    </tr>\n",
              "  </tbody>\n",
              "</table>\n",
              "</div>"
            ],
            "text/plain": [
              "   user_id      date interface language  ...     ads   device conversion  condition\n",
              "0   435134  11/30/19       app  English  ...     NaN   iPhone          0          0\n",
              "1   310928   12/4/19   browser  English  ...   Baidu  Sumsung          0          0\n",
              "2   836325  11/30/19       app  English  ...  Google   iPhone          0          0\n",
              "3   298244   12/4/19   browser  English  ...     NaN  Sumsung          0          0\n",
              "4   614947   12/4/19       app  English  ...   Baidu   iPhone          0          1\n",
              "\n",
              "[5 rows x 9 columns]"
            ]
          },
          "metadata": {
            "tags": []
          },
          "execution_count": 4
        }
      ]
    },
    {
      "cell_type": "code",
      "metadata": {
        "colab": {
          "base_uri": "https://localhost:8080/",
          "height": 204
        },
        "id": "S7PbhGy3_9PD",
        "outputId": "84d7b25b-9e3f-4539-c4aa-2579995e9023"
      },
      "source": [
        "users.head()"
      ],
      "execution_count": 5,
      "outputs": [
        {
          "output_type": "execute_result",
          "data": {
            "text/html": [
              "<div>\n",
              "<style scoped>\n",
              "    .dataframe tbody tr th:only-of-type {\n",
              "        vertical-align: middle;\n",
              "    }\n",
              "\n",
              "    .dataframe tbody tr th {\n",
              "        vertical-align: top;\n",
              "    }\n",
              "\n",
              "    .dataframe thead th {\n",
              "        text-align: right;\n",
              "    }\n",
              "</style>\n",
              "<table border=\"1\" class=\"dataframe\">\n",
              "  <thead>\n",
              "    <tr style=\"text-align: right;\">\n",
              "      <th></th>\n",
              "      <th>user_id</th>\n",
              "      <th>sex</th>\n",
              "      <th>age</th>\n",
              "      <th>state</th>\n",
              "    </tr>\n",
              "  </thead>\n",
              "  <tbody>\n",
              "    <tr>\n",
              "      <th>0</th>\n",
              "      <td>492780</td>\n",
              "      <td>Female</td>\n",
              "      <td>21</td>\n",
              "      <td>New Jersey</td>\n",
              "    </tr>\n",
              "    <tr>\n",
              "      <th>1</th>\n",
              "      <td>227537</td>\n",
              "      <td>Female</td>\n",
              "      <td>21</td>\n",
              "      <td>Florida</td>\n",
              "    </tr>\n",
              "    <tr>\n",
              "      <th>2</th>\n",
              "      <td>83980</td>\n",
              "      <td>Female</td>\n",
              "      <td>18</td>\n",
              "      <td>California</td>\n",
              "    </tr>\n",
              "    <tr>\n",
              "      <th>3</th>\n",
              "      <td>375992</td>\n",
              "      <td>Female</td>\n",
              "      <td>19</td>\n",
              "      <td>Pennsylvania</td>\n",
              "    </tr>\n",
              "    <tr>\n",
              "      <th>4</th>\n",
              "      <td>597861</td>\n",
              "      <td>Male</td>\n",
              "      <td>20</td>\n",
              "      <td>Florida</td>\n",
              "    </tr>\n",
              "  </tbody>\n",
              "</table>\n",
              "</div>"
            ],
            "text/plain": [
              "   user_id     sex  age         state\n",
              "0   492780  Female   21    New Jersey\n",
              "1   227537  Female   21       Florida\n",
              "2    83980  Female   18    California\n",
              "3   375992  Female   19  Pennsylvania\n",
              "4   597861    Male   20       Florida"
            ]
          },
          "metadata": {
            "tags": []
          },
          "execution_count": 5
        }
      ]
    },
    {
      "cell_type": "code",
      "metadata": {
        "colab": {
          "base_uri": "https://localhost:8080/"
        },
        "id": "xEEU65RvCOVi",
        "outputId": "4a753ac0-fa92-4381-a602-4b4c9cc3d015"
      },
      "source": [
        "experiment.info() # check the shape, datatypes, non-null values of a pandas dataframe"
      ],
      "execution_count": 6,
      "outputs": [
        {
          "output_type": "stream",
          "text": [
            "<class 'pandas.core.frame.DataFrame'>\n",
            "RangeIndex: 453269 entries, 0 to 453268\n",
            "Data columns (total 9 columns):\n",
            " #   Column      Non-Null Count   Dtype \n",
            "---  ------      --------------   ----- \n",
            " 0   user_id     453269 non-null  int64 \n",
            " 1   date        453269 non-null  object\n",
            " 2   interface   453269 non-null  object\n",
            " 3   language    453269 non-null  object\n",
            " 4   channel     453269 non-null  object\n",
            " 5   ads         181856 non-null  object\n",
            " 6   device      453269 non-null  object\n",
            " 7   conversion  453269 non-null  int64 \n",
            " 8   condition   453269 non-null  int64 \n",
            "dtypes: int64(3), object(6)\n",
            "memory usage: 31.1+ MB\n"
          ],
          "name": "stdout"
        }
      ]
    },
    {
      "cell_type": "code",
      "metadata": {
        "colab": {
          "base_uri": "https://localhost:8080/"
        },
        "id": "AdLFY9KvCb_g",
        "outputId": "62d61682-05e1-4dfb-a185-e459ba0a1352"
      },
      "source": [
        "users.info()"
      ],
      "execution_count": 7,
      "outputs": [
        {
          "output_type": "stream",
          "text": [
            "<class 'pandas.core.frame.DataFrame'>\n",
            "RangeIndex: 452785 entries, 0 to 452784\n",
            "Data columns (total 4 columns):\n",
            " #   Column   Non-Null Count   Dtype \n",
            "---  ------   --------------   ----- \n",
            " 0   user_id  452785 non-null  int64 \n",
            " 1   sex      452785 non-null  object\n",
            " 2   age      452785 non-null  int64 \n",
            " 3   state    452785 non-null  object\n",
            "dtypes: int64(2), object(2)\n",
            "memory usage: 13.8+ MB\n"
          ],
          "name": "stdout"
        }
      ]
    },
    {
      "cell_type": "markdown",
      "metadata": {
        "id": "m9NqMS8cEZKS"
      },
      "source": [
        "No missing data exists in users data;\n",
        "\n",
        "over a half data are missing in 'ads' column of experiment data."
      ]
    },
    {
      "cell_type": "code",
      "metadata": {
        "colab": {
          "base_uri": "https://localhost:8080/"
        },
        "id": "ofa95JhHDBqe",
        "outputId": "3d3b6bb0-2621-43d0-de99-bb13546d2ebb"
      },
      "source": [
        "experiment.nunique()"
      ],
      "execution_count": 8,
      "outputs": [
        {
          "output_type": "execute_result",
          "data": {
            "text/plain": [
              "user_id       453269\n",
              "date               5\n",
              "interface          2\n",
              "language           3\n",
              "channel            3\n",
              "ads                5\n",
              "device             7\n",
              "conversion         2\n",
              "condition          2\n",
              "dtype: int64"
            ]
          },
          "metadata": {
            "tags": []
          },
          "execution_count": 8
        }
      ]
    },
    {
      "cell_type": "code",
      "metadata": {
        "colab": {
          "base_uri": "https://localhost:8080/"
        },
        "id": "IunRYQhEDK7p",
        "outputId": "df7dc042-fd69-40d4-a29a-feac0245367c"
      },
      "source": [
        "users.nunique()"
      ],
      "execution_count": 9,
      "outputs": [
        {
          "output_type": "execute_result",
          "data": {
            "text/plain": [
              "user_id    452785\n",
              "sex             2\n",
              "age            52\n",
              "state          17\n",
              "dtype: int64"
            ]
          },
          "metadata": {
            "tags": []
          },
          "execution_count": 9
        }
      ]
    },
    {
      "cell_type": "markdown",
      "metadata": {
        "id": "E4vihV-7C91f"
      },
      "source": [
        "No duplicate user_id exists in experiment data and users data; however, there are more users in experiment data than in users data.\n"
      ]
    },
    {
      "cell_type": "code",
      "metadata": {
        "colab": {
          "base_uri": "https://localhost:8080/",
          "height": 204
        },
        "id": "LvOT0Gtd_9PE",
        "outputId": "3f509159-9aaa-45fc-9a95-d345366c884d"
      },
      "source": [
        "# inner join the two datasets\n",
        "df= experiment.merge(users, on=['user_id'])# pd.merge(experiment, users, on=['user_id'])\n",
        "df.head()"
      ],
      "execution_count": 10,
      "outputs": [
        {
          "output_type": "execute_result",
          "data": {
            "text/html": [
              "<div>\n",
              "<style scoped>\n",
              "    .dataframe tbody tr th:only-of-type {\n",
              "        vertical-align: middle;\n",
              "    }\n",
              "\n",
              "    .dataframe tbody tr th {\n",
              "        vertical-align: top;\n",
              "    }\n",
              "\n",
              "    .dataframe thead th {\n",
              "        text-align: right;\n",
              "    }\n",
              "</style>\n",
              "<table border=\"1\" class=\"dataframe\">\n",
              "  <thead>\n",
              "    <tr style=\"text-align: right;\">\n",
              "      <th></th>\n",
              "      <th>user_id</th>\n",
              "      <th>date</th>\n",
              "      <th>interface</th>\n",
              "      <th>language</th>\n",
              "      <th>channel</th>\n",
              "      <th>ads</th>\n",
              "      <th>device</th>\n",
              "      <th>conversion</th>\n",
              "      <th>condition</th>\n",
              "      <th>sex</th>\n",
              "      <th>age</th>\n",
              "      <th>state</th>\n",
              "    </tr>\n",
              "  </thead>\n",
              "  <tbody>\n",
              "    <tr>\n",
              "      <th>0</th>\n",
              "      <td>435134</td>\n",
              "      <td>11/30/19</td>\n",
              "      <td>app</td>\n",
              "      <td>English</td>\n",
              "      <td>SEO</td>\n",
              "      <td>NaN</td>\n",
              "      <td>iPhone</td>\n",
              "      <td>0</td>\n",
              "      <td>0</td>\n",
              "      <td>Female</td>\n",
              "      <td>18</td>\n",
              "      <td>Texas</td>\n",
              "    </tr>\n",
              "    <tr>\n",
              "      <th>1</th>\n",
              "      <td>310928</td>\n",
              "      <td>12/4/19</td>\n",
              "      <td>browser</td>\n",
              "      <td>English</td>\n",
              "      <td>Ads</td>\n",
              "      <td>Baidu</td>\n",
              "      <td>Sumsung</td>\n",
              "      <td>0</td>\n",
              "      <td>0</td>\n",
              "      <td>Male</td>\n",
              "      <td>28</td>\n",
              "      <td>Massachusetts</td>\n",
              "    </tr>\n",
              "    <tr>\n",
              "      <th>2</th>\n",
              "      <td>836325</td>\n",
              "      <td>11/30/19</td>\n",
              "      <td>app</td>\n",
              "      <td>English</td>\n",
              "      <td>Ads</td>\n",
              "      <td>Google</td>\n",
              "      <td>iPhone</td>\n",
              "      <td>0</td>\n",
              "      <td>0</td>\n",
              "      <td>Female</td>\n",
              "      <td>24</td>\n",
              "      <td>California</td>\n",
              "    </tr>\n",
              "    <tr>\n",
              "      <th>3</th>\n",
              "      <td>298244</td>\n",
              "      <td>12/4/19</td>\n",
              "      <td>browser</td>\n",
              "      <td>English</td>\n",
              "      <td>Referral</td>\n",
              "      <td>NaN</td>\n",
              "      <td>Sumsung</td>\n",
              "      <td>0</td>\n",
              "      <td>0</td>\n",
              "      <td>Male</td>\n",
              "      <td>34</td>\n",
              "      <td>Michigan</td>\n",
              "    </tr>\n",
              "    <tr>\n",
              "      <th>4</th>\n",
              "      <td>614947</td>\n",
              "      <td>12/4/19</td>\n",
              "      <td>app</td>\n",
              "      <td>English</td>\n",
              "      <td>Ads</td>\n",
              "      <td>Baidu</td>\n",
              "      <td>iPhone</td>\n",
              "      <td>0</td>\n",
              "      <td>1</td>\n",
              "      <td>Female</td>\n",
              "      <td>18</td>\n",
              "      <td>California</td>\n",
              "    </tr>\n",
              "  </tbody>\n",
              "</table>\n",
              "</div>"
            ],
            "text/plain": [
              "   user_id      date interface language  ... condition     sex age          state\n",
              "0   435134  11/30/19       app  English  ...         0  Female  18          Texas\n",
              "1   310928   12/4/19   browser  English  ...         0    Male  28  Massachusetts\n",
              "2   836325  11/30/19       app  English  ...         0  Female  24     California\n",
              "3   298244   12/4/19   browser  English  ...         0    Male  34       Michigan\n",
              "4   614947   12/4/19       app  English  ...         1  Female  18     California\n",
              "\n",
              "[5 rows x 12 columns]"
            ]
          },
          "metadata": {
            "tags": []
          },
          "execution_count": 10
        }
      ]
    },
    {
      "cell_type": "code",
      "metadata": {
        "colab": {
          "base_uri": "https://localhost:8080/"
        },
        "id": "QV5WMWMJ_9PF",
        "outputId": "ff0abef5-3b7d-4723-d8f1-99294d164094"
      },
      "source": [
        "df.info()"
      ],
      "execution_count": 11,
      "outputs": [
        {
          "output_type": "stream",
          "text": [
            "<class 'pandas.core.frame.DataFrame'>\n",
            "Int64Index: 452733 entries, 0 to 452732\n",
            "Data columns (total 12 columns):\n",
            " #   Column      Non-Null Count   Dtype \n",
            "---  ------      --------------   ----- \n",
            " 0   user_id     452733 non-null  int64 \n",
            " 1   date        452733 non-null  object\n",
            " 2   interface   452733 non-null  object\n",
            " 3   language    452733 non-null  object\n",
            " 4   channel     452733 non-null  object\n",
            " 5   ads         181640 non-null  object\n",
            " 6   device      452733 non-null  object\n",
            " 7   conversion  452733 non-null  int64 \n",
            " 8   condition   452733 non-null  int64 \n",
            " 9   sex         452733 non-null  object\n",
            " 10  age         452733 non-null  int64 \n",
            " 11  state       452733 non-null  object\n",
            "dtypes: int64(4), object(8)\n",
            "memory usage: 44.9+ MB\n"
          ],
          "name": "stdout"
        }
      ]
    },
    {
      "cell_type": "code",
      "metadata": {
        "colab": {
          "base_uri": "https://localhost:8080/",
          "height": 297
        },
        "id": "8BarUm-l_9PE",
        "outputId": "dc258d40-ab9a-4b13-f125-2f7316aea6fa"
      },
      "source": [
        "df.describe()"
      ],
      "execution_count": 12,
      "outputs": [
        {
          "output_type": "execute_result",
          "data": {
            "text/html": [
              "<div>\n",
              "<style scoped>\n",
              "    .dataframe tbody tr th:only-of-type {\n",
              "        vertical-align: middle;\n",
              "    }\n",
              "\n",
              "    .dataframe tbody tr th {\n",
              "        vertical-align: top;\n",
              "    }\n",
              "\n",
              "    .dataframe thead th {\n",
              "        text-align: right;\n",
              "    }\n",
              "</style>\n",
              "<table border=\"1\" class=\"dataframe\">\n",
              "  <thead>\n",
              "    <tr style=\"text-align: right;\">\n",
              "      <th></th>\n",
              "      <th>user_id</th>\n",
              "      <th>conversion</th>\n",
              "      <th>condition</th>\n",
              "      <th>age</th>\n",
              "    </tr>\n",
              "  </thead>\n",
              "  <tbody>\n",
              "    <tr>\n",
              "      <th>count</th>\n",
              "      <td>452733.000000</td>\n",
              "      <td>452733.000000</td>\n",
              "      <td>452733.000000</td>\n",
              "      <td>452733.000000</td>\n",
              "    </tr>\n",
              "    <tr>\n",
              "      <th>mean</th>\n",
              "      <td>499947.117970</td>\n",
              "      <td>0.049552</td>\n",
              "      <td>0.476484</td>\n",
              "      <td>27.130810</td>\n",
              "    </tr>\n",
              "    <tr>\n",
              "      <th>std</th>\n",
              "      <td>288678.018612</td>\n",
              "      <td>0.217019</td>\n",
              "      <td>0.499447</td>\n",
              "      <td>6.776542</td>\n",
              "    </tr>\n",
              "    <tr>\n",
              "      <th>min</th>\n",
              "      <td>1.000000</td>\n",
              "      <td>0.000000</td>\n",
              "      <td>0.000000</td>\n",
              "      <td>18.000000</td>\n",
              "    </tr>\n",
              "    <tr>\n",
              "      <th>25%</th>\n",
              "      <td>249831.000000</td>\n",
              "      <td>0.000000</td>\n",
              "      <td>0.000000</td>\n",
              "      <td>22.000000</td>\n",
              "    </tr>\n",
              "    <tr>\n",
              "      <th>50%</th>\n",
              "      <td>500014.000000</td>\n",
              "      <td>0.000000</td>\n",
              "      <td>0.000000</td>\n",
              "      <td>26.000000</td>\n",
              "    </tr>\n",
              "    <tr>\n",
              "      <th>75%</th>\n",
              "      <td>749541.000000</td>\n",
              "      <td>0.000000</td>\n",
              "      <td>1.000000</td>\n",
              "      <td>31.000000</td>\n",
              "    </tr>\n",
              "    <tr>\n",
              "      <th>max</th>\n",
              "      <td>1000000.000000</td>\n",
              "      <td>1.000000</td>\n",
              "      <td>1.000000</td>\n",
              "      <td>70.000000</td>\n",
              "    </tr>\n",
              "  </tbody>\n",
              "</table>\n",
              "</div>"
            ],
            "text/plain": [
              "              user_id     conversion      condition            age\n",
              "count   452733.000000  452733.000000  452733.000000  452733.000000\n",
              "mean    499947.117970       0.049552       0.476484      27.130810\n",
              "std     288678.018612       0.217019       0.499447       6.776542\n",
              "min          1.000000       0.000000       0.000000      18.000000\n",
              "25%     249831.000000       0.000000       0.000000      22.000000\n",
              "50%     500014.000000       0.000000       0.000000      26.000000\n",
              "75%     749541.000000       0.000000       1.000000      31.000000\n",
              "max    1000000.000000       1.000000       1.000000      70.000000"
            ]
          },
          "metadata": {
            "tags": []
          },
          "execution_count": 12
        }
      ]
    },
    {
      "cell_type": "code",
      "metadata": {
        "colab": {
          "base_uri": "https://localhost:8080/"
        },
        "id": "20u-Kih2INlD",
        "outputId": "58f0c390-9f25-47d4-b5f7-1f3d9abd1135"
      },
      "source": [
        "# check whether there are outliers in 'age' feature\n",
        "df['age'].sort_values()"
      ],
      "execution_count": 13,
      "outputs": [
        {
          "output_type": "execute_result",
          "data": {
            "text/plain": [
              "0         18\n",
              "262107    18\n",
              "262072    18\n",
              "262050    18\n",
              "262049    18\n",
              "          ..\n",
              "247538    65\n",
              "348599    66\n",
              "177218    67\n",
              "78403     68\n",
              "9072      70\n",
              "Name: age, Length: 452733, dtype: int64"
            ]
          },
          "metadata": {
            "tags": []
          },
          "execution_count": 13
        }
      ]
    },
    {
      "cell_type": "code",
      "metadata": {
        "colab": {
          "base_uri": "https://localhost:8080/",
          "height": 265
        },
        "id": "9v-ZpUQCKqgI",
        "outputId": "524b3e01-8346-4947-8091-87d1b3fc1d0f"
      },
      "source": [
        "plt.hist(df['age'])\n",
        "plt.show()"
      ],
      "execution_count": 14,
      "outputs": [
        {
          "output_type": "display_data",
          "data": {
            "image/png": "[encoded data removed]",
            "text/plain": [
              "<Figure size 432x288 with 1 Axes>"
            ]
          },
          "metadata": {
            "tags": [],
            "needs_background": "light"
          }
        }
      ]
    },
    {
      "cell_type": "code",
      "metadata": {
        "colab": {
          "base_uri": "https://localhost:8080/",
          "height": 265
        },
        "id": "svfHzkzNI09D",
        "outputId": "c5837f25-36c6-4059-f17d-ac891c7f3c84"
      },
      "source": [
        "plt.boxplot(df['age'])\n",
        "plt.show()"
      ],
      "execution_count": 15,
      "outputs": [
        {
          "output_type": "display_data",
          "data": {
            "image/png": "[encoded data removed]",
            "text/plain": [
              "<Figure size 432x288 with 1 Axes>"
            ]
          },
          "metadata": {
            "tags": [],
            "needs_background": "light"
          }
        }
      ]
    },
    {
      "cell_type": "markdown",
      "metadata": {
        "id": "toBPZWfX_9PF"
      },
      "source": [
        "### 2.EDA(Exploratory Data Analysis)"
      ]
    },
    {
      "cell_type": "markdown",
      "metadata": {
        "id": "Wc1xWkKWOkrP"
      },
      "source": [
        "First, for categorical features including date, let's check whether the number of users are equal in treatment and control conditions."
      ]
    },
    {
      "cell_type": "code",
      "metadata": {
        "colab": {
          "base_uri": "https://localhost:8080/",
          "height": 359
        },
        "id": "e7iI7lADKmtO",
        "outputId": "2c003266-79df-4bd2-e90f-a24472355b30"
      },
      "source": [
        "df.groupby(['date', 'condition'])['conversion'].count().reset_index()"
      ],
      "execution_count": 16,
      "outputs": [
        {
          "output_type": "execute_result",
          "data": {
            "text/html": [
              "<div>\n",
              "<style scoped>\n",
              "    .dataframe tbody tr th:only-of-type {\n",
              "        vertical-align: middle;\n",
              "    }\n",
              "\n",
              "    .dataframe tbody tr th {\n",
              "        vertical-align: top;\n",
              "    }\n",
              "\n",
              "    .dataframe thead th {\n",
              "        text-align: right;\n",
              "    }\n",
              "</style>\n",
              "<table border=\"1\" class=\"dataframe\">\n",
              "  <thead>\n",
              "    <tr style=\"text-align: right;\">\n",
              "      <th></th>\n",
              "      <th>date</th>\n",
              "      <th>condition</th>\n",
              "      <th>conversion</th>\n",
              "    </tr>\n",
              "  </thead>\n",
              "  <tbody>\n",
              "    <tr>\n",
              "      <th>0</th>\n",
              "      <td>11/30/19</td>\n",
              "      <td>0</td>\n",
              "      <td>37092</td>\n",
              "    </tr>\n",
              "    <tr>\n",
              "      <th>1</th>\n",
              "      <td>11/30/19</td>\n",
              "      <td>1</td>\n",
              "      <td>33834</td>\n",
              "    </tr>\n",
              "    <tr>\n",
              "      <th>2</th>\n",
              "      <td>12/1/19</td>\n",
              "      <td>0</td>\n",
              "      <td>37062</td>\n",
              "    </tr>\n",
              "    <tr>\n",
              "      <th>3</th>\n",
              "      <td>12/1/19</td>\n",
              "      <td>1</td>\n",
              "      <td>33833</td>\n",
              "    </tr>\n",
              "    <tr>\n",
              "      <th>4</th>\n",
              "      <td>12/2/19</td>\n",
              "      <td>0</td>\n",
              "      <td>37058</td>\n",
              "    </tr>\n",
              "    <tr>\n",
              "      <th>5</th>\n",
              "      <td>12/2/19</td>\n",
              "      <td>1</td>\n",
              "      <td>33507</td>\n",
              "    </tr>\n",
              "    <tr>\n",
              "      <th>6</th>\n",
              "      <td>12/3/19</td>\n",
              "      <td>0</td>\n",
              "      <td>51994</td>\n",
              "    </tr>\n",
              "    <tr>\n",
              "      <th>7</th>\n",
              "      <td>12/3/19</td>\n",
              "      <td>1</td>\n",
              "      <td>47371</td>\n",
              "    </tr>\n",
              "    <tr>\n",
              "      <th>8</th>\n",
              "      <td>12/4/19</td>\n",
              "      <td>0</td>\n",
              "      <td>73807</td>\n",
              "    </tr>\n",
              "    <tr>\n",
              "      <th>9</th>\n",
              "      <td>12/4/19</td>\n",
              "      <td>1</td>\n",
              "      <td>67175</td>\n",
              "    </tr>\n",
              "  </tbody>\n",
              "</table>\n",
              "</div>"
            ],
            "text/plain": [
              "       date  condition  conversion\n",
              "0  11/30/19          0       37092\n",
              "1  11/30/19          1       33834\n",
              "2   12/1/19          0       37062\n",
              "3   12/1/19          1       33833\n",
              "4   12/2/19          0       37058\n",
              "5   12/2/19          1       33507\n",
              "6   12/3/19          0       51994\n",
              "7   12/3/19          1       47371\n",
              "8   12/4/19          0       73807\n",
              "9   12/4/19          1       67175"
            ]
          },
          "metadata": {
            "tags": []
          },
          "execution_count": 16
        }
      ]
    },
    {
      "cell_type": "code",
      "metadata": {
        "colab": {
          "base_uri": "https://localhost:8080/"
        },
        "id": "h0dIjHkmTHq2",
        "outputId": "c4f09275-6ae2-4e5a-a6fb-216fb77936f8"
      },
      "source": [
        "cat_cols = [c for c in df.columns if df[c].dtype != 'int64']\n",
        "cat_cols"
      ],
      "execution_count": 17,
      "outputs": [
        {
          "output_type": "execute_result",
          "data": {
            "text/plain": [
              "['date', 'interface', 'language', 'channel', 'ads', 'device', 'sex', 'state']"
            ]
          },
          "metadata": {
            "tags": []
          },
          "execution_count": 17
        }
      ]
    },
    {
      "cell_type": "code",
      "metadata": {
        "colab": {
          "base_uri": "https://localhost:8080/",
          "height": 1000
        },
        "id": "0gVUBL2EUVsO",
        "outputId": "89729bfe-baa7-47fb-c4b2-21d3f90515c4"
      },
      "source": [
        "fig, ax = plt.subplots(8, 1, figsize = [15, 30])\n",
        "fig.tight_layout()\n",
        "\n",
        "for i in range(8):\n",
        "  gdf = df.groupby([cat_cols[i], 'condition'])['user_id'].count().reset_index()\n",
        "  sns.barplot(x=cat_cols[i], y='user_id', hue='condition', data=gdf, ax=ax[i])"
      ],
      "execution_count": 18,
      "outputs": [
        {
          "output_type": "display_data",
          "data": {
            "image/png": "[encoded data removed]",
            "text/plain": [
              "<Figure size 1080x2160 with 8 Axes>"
            ]
          },
          "metadata": {
            "tags": [],
            "needs_background": "light"
          }
        }
      ]
    },
    {
      "cell_type": "markdown",
      "metadata": {
        "id": "1xMw2_9v-Ivb"
      },
      "source": [
        "Some findings from these plots:\n",
        "\n",
        "1.   For most features, the number of users is equal in treatment and control groups.\n",
        "2.   The number of users from some states is not equal in treatment and control groups: most users from North Carolina and Indiana were assigned to treatment condition (1), and all users from Pennsylvania were assigned to control condition (0).\n",
        "3.   Some problem may have occurred in randomization for states.\n"
      ]
    },
    {
      "cell_type": "markdown",
      "metadata": {
        "id": "a3dedA52DkDR"
      },
      "source": [
        "Next let's compare the mean conversion rate by each categorical feature of treatment and control conditions."
      ]
    },
    {
      "cell_type": "code",
      "metadata": {
        "id": "ClIVldko5FFy",
        "colab": {
          "base_uri": "https://localhost:8080/",
          "height": 1000
        },
        "outputId": "188d1333-b94b-483d-ca86-75731f064ed9"
      },
      "source": [
        "fig, ax = plt.subplots(8, 1, figsize = [18, 30])\n",
        "\n",
        "for i in range(8):\n",
        "  gdf = df.groupby([cat_cols[i], 'condition'])['conversion'].mean().reset_index()\n",
        "  sns.pointplot(x=cat_cols[i], y='conversion', hue='condition', data=gdf, ax=ax[i])"
      ],
      "execution_count": 19,
      "outputs": [
        {
          "output_type": "display_data",
          "data": {
            "image/png": "[encoded data removed]",
            "text/plain": [
              "<Figure size 1296x2160 with 8 Axes>"
            ]
          },
          "metadata": {
            "tags": [],
            "needs_background": "light"
          }
        }
      ]
    },
    {
      "cell_type": "markdown",
      "metadata": {
        "id": "IFxDCXy2ATAM"
      },
      "source": [
        "Some findings:\n",
        "\n",
        "\n",
        "1.   For most categorical features except for state, the mean conversion rate of treatment condition is constantly lower than that of control condition.\n",
        "2.   For all states except for Pennsylvania, the mean conversion rates of both two conditions are very close.\n",
        "3.   Pennsylvania has the highest mean conversion rate among all states, but it doesn't appear in treatment group. \n",
        "4.   Mean conversion rates of Indiana and North Carolina are much lower than other states, which have consistently shown mean conversion rates of about 5%.\n",
        "\n"
      ]
    },
    {
      "cell_type": "markdown",
      "metadata": {
        "id": "1xOVKpZgFJV_"
      },
      "source": [
        "Finally, let's check whether any age difference exists between the two conditions."
      ]
    },
    {
      "cell_type": "code",
      "metadata": {
        "colab": {
          "base_uri": "https://localhost:8080/",
          "height": 279
        },
        "id": "HiRBKF7B_Zvb",
        "outputId": "fd9f8b5c-20ec-4aab-a7c0-bc8cff818bbf"
      },
      "source": [
        "fig = sns.boxplot(x='conversion', y='age', hue='condition', data=df)"
      ],
      "execution_count": 20,
      "outputs": [
        {
          "output_type": "display_data",
          "data": {
            "image/png": "[encoded data removed]",
            "text/plain": [
              "<Figure size 432x288 with 1 Axes>"
            ]
          },
          "metadata": {
            "tags": [],
            "needs_background": "light"
          }
        }
      ]
    },
    {
      "cell_type": "markdown",
      "metadata": {
        "id": "X2wlbg0EF71J"
      },
      "source": [
        "Some findings:\n",
        "\n",
        "\n",
        "1.   The boxplots from two conditions are nearly the same.\n",
        "2.   There are less age outliers in users who converted, i.e. less elder users.\n",
        "\n"
      ]
    },
    {
      "cell_type": "code",
      "metadata": {
        "id": "4TMhi4sg_9PF"
      },
      "source": [
        "#convert date to datetime\n",
        "df['date']=pd.to_datetime(df['date'])"
      ],
      "execution_count": 21,
      "outputs": []
    },
    {
      "cell_type": "code",
      "metadata": {
        "id": "4zlyRm6C_9PF",
        "colab": {
          "base_uri": "https://localhost:8080/"
        },
        "outputId": "128389e7-bfff-4c41-84e9-5c0a5018bcaa"
      },
      "source": [
        "# control conversion rate by device type\n",
        "df.loc[df.condition==0].groupby('device')['conversion'].mean()"
      ],
      "execution_count": 22,
      "outputs": [
        {
          "output_type": "execute_result",
          "data": {
            "text/plain": [
              "device\n",
              "GooglePixel    0.054511\n",
              "Huawei         0.054586\n",
              "Oppo           0.056981\n",
              "Sumsung        0.055985\n",
              "Xiaomi         0.057170\n",
              "iPad           0.052804\n",
              "iPhone         0.054575\n",
              "Name: conversion, dtype: float64"
            ]
          },
          "metadata": {
            "tags": []
          },
          "execution_count": 22
        }
      ]
    },
    {
      "cell_type": "code",
      "metadata": {
        "id": "6bIzrR_P_9PG",
        "colab": {
          "base_uri": "https://localhost:8080/"
        },
        "outputId": "9397f21b-a662-467c-a723-99e33133aa77"
      },
      "source": [
        "#test conversion rate by state,sort descending\n",
        "df.loc[df.condition==0].groupby('state')['conversion'].mean().sort_values(ascending=False)"
      ],
      "execution_count": 23,
      "outputs": [
        {
          "output_type": "execute_result",
          "data": {
            "text/plain": [
              "state\n",
              "Pennsylvania      0.079656\n",
              "Massachusetts     0.053567\n",
              "Texas             0.052678\n",
              "Washington        0.052256\n",
              "Florida           0.052056\n",
              "Airzona           0.050906\n",
              "Virginia          0.050545\n",
              "New York          0.050356\n",
              "Michigan          0.049929\n",
              "California        0.049498\n",
              "Georgia           0.049405\n",
              "Illinois          0.049154\n",
              "Ohio              0.048493\n",
              "New Jersey        0.048132\n",
              "Tennessee         0.046796\n",
              "North Carolina    0.015079\n",
              "Indiana           0.012048\n",
              "Name: conversion, dtype: float64"
            ]
          },
          "metadata": {
            "tags": []
          },
          "execution_count": 23
        }
      ]
    },
    {
      "cell_type": "code",
      "metadata": {
        "id": "np0Sk1nn_9PG",
        "colab": {
          "base_uri": "https://localhost:8080/"
        },
        "outputId": "71487003-0e07-445f-e568-b2f9e04fae34"
      },
      "source": [
        "#test conversion rate by state,sort descending\n",
        "df.loc[df.condition==1].groupby('state')['conversion'].mean().sort_values(ascending=False)"
      ],
      "execution_count": 24,
      "outputs": [
        {
          "output_type": "execute_result",
          "data": {
            "text/plain": [
              "state\n",
              "Washington        0.054779\n",
              "Texas             0.054210\n",
              "New Jersey        0.051305\n",
              "California        0.051183\n",
              "Florida           0.050590\n",
              "Michigan          0.050557\n",
              "Tennessee         0.049370\n",
              "Ohio              0.049229\n",
              "New York          0.048997\n",
              "Illinois          0.048995\n",
              "Virginia          0.048654\n",
              "Massachusetts     0.047947\n",
              "Georgia           0.047918\n",
              "Airzona           0.047551\n",
              "North Carolina    0.013727\n",
              "Indiana           0.012917\n",
              "Name: conversion, dtype: float64"
            ]
          },
          "metadata": {
            "tags": []
          },
          "execution_count": 24
        }
      ]
    },
    {
      "cell_type": "markdown",
      "metadata": {
        "id": "6CvjAgzl_9PG"
      },
      "source": [
        "Pennsylvania has the highest conversion rate in control group, but not exist in test group. the experiment has some issue as it didn't test a key state.in the following analysis, I'll exclude PA. we should investigate why PA is missing in the test group."
      ]
    },
    {
      "cell_type": "markdown",
      "metadata": {
        "id": "p5bvVtWp_9PG"
      },
      "source": [
        "###3. preliminary t test\n",
        "we want to make sure we have enough samples in both test and control before conduct the test"
      ]
    },
    {
      "cell_type": "code",
      "metadata": {
        "colab": {
          "base_uri": "https://localhost:8080/"
        },
        "id": "IgiuwejRMKhs",
        "outputId": "0bcc6372-b311-42bf-9c5e-531b2b8a4291"
      },
      "source": [
        "df.info()"
      ],
      "execution_count": 25,
      "outputs": [
        {
          "output_type": "stream",
          "text": [
            "<class 'pandas.core.frame.DataFrame'>\n",
            "Int64Index: 452733 entries, 0 to 452732\n",
            "Data columns (total 12 columns):\n",
            " #   Column      Non-Null Count   Dtype         \n",
            "---  ------      --------------   -----         \n",
            " 0   user_id     452733 non-null  int64         \n",
            " 1   date        452733 non-null  datetime64[ns]\n",
            " 2   interface   452733 non-null  object        \n",
            " 3   language    452733 non-null  object        \n",
            " 4   channel     452733 non-null  object        \n",
            " 5   ads         181640 non-null  object        \n",
            " 6   device      452733 non-null  object        \n",
            " 7   conversion  452733 non-null  int64         \n",
            " 8   condition   452733 non-null  int64         \n",
            " 9   sex         452733 non-null  object        \n",
            " 10  age         452733 non-null  int64         \n",
            " 11  state       452733 non-null  object        \n",
            "dtypes: datetime64[ns](1), int64(4), object(7)\n",
            "memory usage: 64.9+ MB\n"
          ],
          "name": "stdout"
        }
      ]
    },
    {
      "cell_type": "code",
      "metadata": {
        "id": "0uaf3K1i_9PG",
        "colab": {
          "base_uri": "https://localhost:8080/",
          "height": 142
        },
        "outputId": "27cd6dd6-9404-49d3-e254-56a8cbdd16c1"
      },
      "source": [
        "df.loc[df.state!='Pennsylvania'].groupby('condition').count()"
      ],
      "execution_count": 26,
      "outputs": [
        {
          "output_type": "execute_result",
          "data": {
            "text/html": [
              "<div>\n",
              "<style scoped>\n",
              "    .dataframe tbody tr th:only-of-type {\n",
              "        vertical-align: middle;\n",
              "    }\n",
              "\n",
              "    .dataframe tbody tr th {\n",
              "        vertical-align: top;\n",
              "    }\n",
              "\n",
              "    .dataframe thead th {\n",
              "        text-align: right;\n",
              "    }\n",
              "</style>\n",
              "<table border=\"1\" class=\"dataframe\">\n",
              "  <thead>\n",
              "    <tr style=\"text-align: right;\">\n",
              "      <th></th>\n",
              "      <th>user_id</th>\n",
              "      <th>date</th>\n",
              "      <th>interface</th>\n",
              "      <th>language</th>\n",
              "      <th>channel</th>\n",
              "      <th>ads</th>\n",
              "      <th>device</th>\n",
              "      <th>conversion</th>\n",
              "      <th>sex</th>\n",
              "      <th>age</th>\n",
              "      <th>state</th>\n",
              "    </tr>\n",
              "    <tr>\n",
              "      <th>condition</th>\n",
              "      <th></th>\n",
              "      <th></th>\n",
              "      <th></th>\n",
              "      <th></th>\n",
              "      <th></th>\n",
              "      <th></th>\n",
              "      <th></th>\n",
              "      <th></th>\n",
              "      <th></th>\n",
              "      <th></th>\n",
              "      <th></th>\n",
              "    </tr>\n",
              "  </thead>\n",
              "  <tbody>\n",
              "    <tr>\n",
              "      <th>0</th>\n",
              "      <td>185253</td>\n",
              "      <td>185253</td>\n",
              "      <td>185253</td>\n",
              "      <td>185253</td>\n",
              "      <td>185253</td>\n",
              "      <td>74329</td>\n",
              "      <td>185253</td>\n",
              "      <td>185253</td>\n",
              "      <td>185253</td>\n",
              "      <td>185253</td>\n",
              "      <td>185253</td>\n",
              "    </tr>\n",
              "    <tr>\n",
              "      <th>1</th>\n",
              "      <td>215720</td>\n",
              "      <td>215720</td>\n",
              "      <td>215720</td>\n",
              "      <td>215720</td>\n",
              "      <td>215720</td>\n",
              "      <td>86428</td>\n",
              "      <td>215720</td>\n",
              "      <td>215720</td>\n",
              "      <td>215720</td>\n",
              "      <td>215720</td>\n",
              "      <td>215720</td>\n",
              "    </tr>\n",
              "  </tbody>\n",
              "</table>\n",
              "</div>"
            ],
            "text/plain": [
              "           user_id    date  interface  ...     sex     age   state\n",
              "condition                              ...                        \n",
              "0           185253  185253     185253  ...  185253  185253  185253\n",
              "1           215720  215720     215720  ...  215720  215720  215720\n",
              "\n",
              "[2 rows x 11 columns]"
            ]
          },
          "metadata": {
            "tags": []
          },
          "execution_count": 26
        }
      ]
    },
    {
      "cell_type": "code",
      "metadata": {
        "id": "8BMY-4qb_9PH",
        "colab": {
          "base_uri": "https://localhost:8080/"
        },
        "outputId": "5164dfdd-55a0-4eac-9228-620169733ed9"
      },
      "source": [
        "#pennsylvania only have users in control group; so exclude them from data\n",
        "df=df.loc[df.state!='Pennsylvania']\n",
        "#t-test of test and control for conversion rate \n",
        "test=stats.ttest_ind(df[df.condition==1]['conversion'],df[df.condition==0]['conversion'],equal_var=False) # independent two samples"
      ],
      "execution_count": 27,
      "outputs": [
        {
          "output_type": "execute_result",
          "data": {
            "text/plain": [
              "Ttest_indResult(statistic=-7.348809649672405, pvalue=2.0037258144272322e-13)"
            ]
          },
          "metadata": {
            "tags": []
          },
          "execution_count": 27
        }
      ]
    },
    {
      "cell_type": "code",
      "metadata": {
        "id": "ap0kPnw6_9PH",
        "colab": {
          "base_uri": "https://localhost:8080/"
        },
        "outputId": "80ca71f3-e5a7-46d6-db44-52eface2e2ce"
      },
      "source": [
        "print(\"the prelinminary t-test p value is:\", test.pvalue, \"; and t-statistic is :\", test.statistic)"
      ],
      "execution_count": 28,
      "outputs": [
        {
          "output_type": "stream",
          "text": [
            "the prelinminary t-test p value is: 2.0037258144272322e-13 ; and t-statistic is : -7.348809649672405\n"
          ],
          "name": "stdout"
        }
      ]
    },
    {
      "cell_type": "code",
      "metadata": {
        "id": "963pVKbg_9PH",
        "colab": {
          "base_uri": "https://localhost:8080/"
        },
        "outputId": "dd2c3781-4954-4fcb-d66e-ed3e91ec8ec1"
      },
      "source": [
        "df.groupby('condition')['conversion'].mean()"
      ],
      "execution_count": 29,
      "outputs": [
        {
          "output_type": "execute_result",
          "data": {
            "text/plain": [
              "condition\n",
              "0    0.048291\n",
              "1    0.043413\n",
              "Name: conversion, dtype: float64"
            ]
          },
          "metadata": {
            "tags": []
          },
          "execution_count": 29
        }
      ]
    },
    {
      "cell_type": "markdown",
      "metadata": {
        "id": "QSBlzNpZ_9PH"
      },
      "source": [
        "##preliminary t-test show the new UI has a stats-sig regression than old UI in control. the conversion rate of control group is 5% higher. there are a couple of hypothesis we can think of :\n",
        "1. new UI is really worse\n",
        "2. there is more bias associated with experiment data\n",
        "3. they didn't collect enough data in some segments\n",
        "\n",
        "we'll continue to investigate the experiment data, to see if users in test and control groups are randomly sampled with any bias, and sufficient in necessary group segments. before deriving any conclusions about the t-test results. only when exluded hypothesis 2) and 3), we can take hypothesis 1), and have learnings in future UI design and product from this experiment.\n"
      ]
    },
    {
      "cell_type": "markdown",
      "metadata": {
        "id": "RKSi-1DE_9PI"
      },
      "source": [
        "###4.Exam experiment bias:"
      ]
    },
    {
      "cell_type": "markdown",
      "metadata": {
        "id": "4iGUkB8C_9PI"
      },
      "source": [
        "4.1 by time"
      ]
    },
    {
      "cell_type": "code",
      "metadata": {
        "id": "31lAQOIR_9PI",
        "colab": {
          "base_uri": "https://localhost:8080/",
          "height": 303
        },
        "outputId": "f43f56df-ae01-4b23-ee0c-7eeeed1594aa"
      },
      "source": [
        "#let's check number of samples and conversion rate day by day\n",
        "# to see if there is some wilderness in someday by comparing number of samples and conversion rate between test and control groups overtime\n",
        "Temp=df.groupby(['date','condition'])['user_id'].count().unstack().plot()"
      ],
      "execution_count": 30,
      "outputs": [
        {
          "output_type": "display_data",
          "data": {
            "image/png": "[encoded data removed]",
            "text/plain": [
              "<Figure size 432x288 with 1 Axes>"
            ]
          },
          "metadata": {
            "tags": [],
            "needs_background": "light"
          }
        }
      ]
    },
    {
      "cell_type": "code",
      "metadata": {
        "id": "SNbyqFPL_9PI",
        "colab": {
          "base_uri": "https://localhost:8080/",
          "height": 235
        },
        "outputId": "49323f05-676d-4401-d6c4-9f1a769eb0d0"
      },
      "source": [
        "df.groupby('date')['conversion'].agg(ratio = lambda a:a[df.condition==1].mean()/a[df.condition==0].mean())"
      ],
      "execution_count": 31,
      "outputs": [
        {
          "output_type": "execute_result",
          "data": {
            "text/html": [
              "<div>\n",
              "<style scoped>\n",
              "    .dataframe tbody tr th:only-of-type {\n",
              "        vertical-align: middle;\n",
              "    }\n",
              "\n",
              "    .dataframe tbody tr th {\n",
              "        vertical-align: top;\n",
              "    }\n",
              "\n",
              "    .dataframe thead th {\n",
              "        text-align: right;\n",
              "    }\n",
              "</style>\n",
              "<table border=\"1\" class=\"dataframe\">\n",
              "  <thead>\n",
              "    <tr style=\"text-align: right;\">\n",
              "      <th></th>\n",
              "      <th>ratio</th>\n",
              "    </tr>\n",
              "    <tr>\n",
              "      <th>date</th>\n",
              "      <th></th>\n",
              "    </tr>\n",
              "  </thead>\n",
              "  <tbody>\n",
              "    <tr>\n",
              "      <th>2019-11-30</th>\n",
              "      <td>0.858002</td>\n",
              "    </tr>\n",
              "    <tr>\n",
              "      <th>2019-12-01</th>\n",
              "      <td>0.894586</td>\n",
              "    </tr>\n",
              "    <tr>\n",
              "      <th>2019-12-02</th>\n",
              "      <td>0.911110</td>\n",
              "    </tr>\n",
              "    <tr>\n",
              "      <th>2019-12-03</th>\n",
              "      <td>0.891067</td>\n",
              "    </tr>\n",
              "    <tr>\n",
              "      <th>2019-12-04</th>\n",
              "      <td>0.923195</td>\n",
              "    </tr>\n",
              "  </tbody>\n",
              "</table>\n",
              "</div>"
            ],
            "text/plain": [
              "               ratio\n",
              "date                \n",
              "2019-11-30  0.858002\n",
              "2019-12-01  0.894586\n",
              "2019-12-02  0.911110\n",
              "2019-12-03  0.891067\n",
              "2019-12-04  0.923195"
            ]
          },
          "metadata": {
            "tags": []
          },
          "execution_count": 31
        }
      ]
    },
    {
      "cell_type": "markdown",
      "metadata": {
        "id": "pGJglKev_9PI"
      },
      "source": [
        "##Conclusion:\n",
        "1.treatment group is consistently worse than the control group\n",
        "2.the experiment has not ran for 1-2 weeks to capture weekly pattern. 12/03-0 has more traffic, probably due to weekly parrtern. There is some limitation about the date. "
      ]
    },
    {
      "cell_type": "markdown",
      "metadata": {
        "id": "104q2CEr_9PI"
      },
      "source": [
        "4.2 device"
      ]
    },
    {
      "cell_type": "code",
      "metadata": {
        "id": "V7JWN3Nv_9PJ"
      },
      "source": [
        "device_count = df.groupby('device')['condition'].agg(count_treatment=lambda a:len(a[a==1]), count_control=lambda  a:len(a[a==0]))"
      ],
      "execution_count": 32,
      "outputs": []
    },
    {
      "cell_type": "code",
      "metadata": {
        "id": "vW3_uuZ-_9PJ",
        "colab": {
          "base_uri": "https://localhost:8080/",
          "height": 297
        },
        "outputId": "3e165f68-7265-4998-fc50-006f2edf5fec"
      },
      "source": [
        "device_count*100/device_count.sum()"
      ],
      "execution_count": 33,
      "outputs": [
        {
          "output_type": "execute_result",
          "data": {
            "text/html": [
              "<div>\n",
              "<style scoped>\n",
              "    .dataframe tbody tr th:only-of-type {\n",
              "        vertical-align: middle;\n",
              "    }\n",
              "\n",
              "    .dataframe tbody tr th {\n",
              "        vertical-align: top;\n",
              "    }\n",
              "\n",
              "    .dataframe thead th {\n",
              "        text-align: right;\n",
              "    }\n",
              "</style>\n",
              "<table border=\"1\" class=\"dataframe\">\n",
              "  <thead>\n",
              "    <tr style=\"text-align: right;\">\n",
              "      <th></th>\n",
              "      <th>count_treatment</th>\n",
              "      <th>count_control</th>\n",
              "    </tr>\n",
              "    <tr>\n",
              "      <th>device</th>\n",
              "      <th></th>\n",
              "      <th></th>\n",
              "    </tr>\n",
              "  </thead>\n",
              "  <tbody>\n",
              "    <tr>\n",
              "      <th>GooglePixel</th>\n",
              "      <td>10.263768</td>\n",
              "      <td>10.308605</td>\n",
              "    </tr>\n",
              "    <tr>\n",
              "      <th>Huawei</th>\n",
              "      <td>13.541628</td>\n",
              "      <td>13.696944</td>\n",
              "    </tr>\n",
              "    <tr>\n",
              "      <th>Oppo</th>\n",
              "      <td>8.971352</td>\n",
              "      <td>8.973134</td>\n",
              "    </tr>\n",
              "    <tr>\n",
              "      <th>Sumsung</th>\n",
              "      <td>34.345448</td>\n",
              "      <td>34.130082</td>\n",
              "    </tr>\n",
              "    <tr>\n",
              "      <th>Xiaomi</th>\n",
              "      <td>1.336455</td>\n",
              "      <td>1.346267</td>\n",
              "    </tr>\n",
              "    <tr>\n",
              "      <th>iPad</th>\n",
              "      <td>8.946319</td>\n",
              "      <td>9.218744</td>\n",
              "    </tr>\n",
              "    <tr>\n",
              "      <th>iPhone</th>\n",
              "      <td>22.595031</td>\n",
              "      <td>22.326224</td>\n",
              "    </tr>\n",
              "  </tbody>\n",
              "</table>\n",
              "</div>"
            ],
            "text/plain": [
              "             count_treatment  count_control\n",
              "device                                     \n",
              "GooglePixel        10.263768      10.308605\n",
              "Huawei             13.541628      13.696944\n",
              "Oppo                8.971352       8.973134\n",
              "Sumsung            34.345448      34.130082\n",
              "Xiaomi              1.336455       1.346267\n",
              "iPad                8.946319       9.218744\n",
              "iPhone             22.595031      22.326224"
            ]
          },
          "metadata": {
            "tags": []
          },
          "execution_count": 33
        }
      ]
    },
    {
      "cell_type": "markdown",
      "metadata": {
        "id": "IHd3vRgP_9PJ"
      },
      "source": [
        "Conclusion: treatment and control are well balanced and comparable, no bias in device"
      ]
    },
    {
      "cell_type": "markdown",
      "metadata": {
        "id": "ZyBzz2GgVkyw"
      },
      "source": [
        "Since our EDA suggested some abnormal data patterns of North Carolina and Indiana: treatment and control conditions of the two states are unbalanced, and the mean conversion rates are much lower than any other state. These may lead to biases in our t-test, and we should exclude users from the two states and see whether conversion rate differences remain significant."
      ]
    },
    {
      "cell_type": "code",
      "metadata": {
        "colab": {
          "base_uri": "https://localhost:8080/",
          "height": 419
        },
        "id": "7KXP41s1Z3z2",
        "outputId": "5f75a707-892c-4e21-97c9-45fd747159c9"
      },
      "source": [
        "df_new = df[~df['state'].isin(['Indiana', 'North Carolina'])]\n",
        "df_new"
      ],
      "execution_count": 38,
      "outputs": [
        {
          "output_type": "execute_result",
          "data": {
            "text/html": [
              "<div>\n",
              "<style scoped>\n",
              "    .dataframe tbody tr th:only-of-type {\n",
              "        vertical-align: middle;\n",
              "    }\n",
              "\n",
              "    .dataframe tbody tr th {\n",
              "        vertical-align: top;\n",
              "    }\n",
              "\n",
              "    .dataframe thead th {\n",
              "        text-align: right;\n",
              "    }\n",
              "</style>\n",
              "<table border=\"1\" class=\"dataframe\">\n",
              "  <thead>\n",
              "    <tr style=\"text-align: right;\">\n",
              "      <th></th>\n",
              "      <th>user_id</th>\n",
              "      <th>date</th>\n",
              "      <th>interface</th>\n",
              "      <th>language</th>\n",
              "      <th>channel</th>\n",
              "      <th>ads</th>\n",
              "      <th>device</th>\n",
              "      <th>conversion</th>\n",
              "      <th>condition</th>\n",
              "      <th>sex</th>\n",
              "      <th>age</th>\n",
              "      <th>state</th>\n",
              "    </tr>\n",
              "  </thead>\n",
              "  <tbody>\n",
              "    <tr>\n",
              "      <th>0</th>\n",
              "      <td>435134</td>\n",
              "      <td>2019-11-30</td>\n",
              "      <td>app</td>\n",
              "      <td>English</td>\n",
              "      <td>SEO</td>\n",
              "      <td>NaN</td>\n",
              "      <td>iPhone</td>\n",
              "      <td>0</td>\n",
              "      <td>0</td>\n",
              "      <td>Female</td>\n",
              "      <td>18</td>\n",
              "      <td>Texas</td>\n",
              "    </tr>\n",
              "    <tr>\n",
              "      <th>1</th>\n",
              "      <td>310928</td>\n",
              "      <td>2019-12-04</td>\n",
              "      <td>browser</td>\n",
              "      <td>English</td>\n",
              "      <td>Ads</td>\n",
              "      <td>Baidu</td>\n",
              "      <td>Sumsung</td>\n",
              "      <td>0</td>\n",
              "      <td>0</td>\n",
              "      <td>Male</td>\n",
              "      <td>28</td>\n",
              "      <td>Massachusetts</td>\n",
              "    </tr>\n",
              "    <tr>\n",
              "      <th>2</th>\n",
              "      <td>836325</td>\n",
              "      <td>2019-11-30</td>\n",
              "      <td>app</td>\n",
              "      <td>English</td>\n",
              "      <td>Ads</td>\n",
              "      <td>Google</td>\n",
              "      <td>iPhone</td>\n",
              "      <td>0</td>\n",
              "      <td>0</td>\n",
              "      <td>Female</td>\n",
              "      <td>24</td>\n",
              "      <td>California</td>\n",
              "    </tr>\n",
              "    <tr>\n",
              "      <th>3</th>\n",
              "      <td>298244</td>\n",
              "      <td>2019-12-04</td>\n",
              "      <td>browser</td>\n",
              "      <td>English</td>\n",
              "      <td>Referral</td>\n",
              "      <td>NaN</td>\n",
              "      <td>Sumsung</td>\n",
              "      <td>0</td>\n",
              "      <td>0</td>\n",
              "      <td>Male</td>\n",
              "      <td>34</td>\n",
              "      <td>Michigan</td>\n",
              "    </tr>\n",
              "    <tr>\n",
              "      <th>4</th>\n",
              "      <td>614947</td>\n",
              "      <td>2019-12-04</td>\n",
              "      <td>app</td>\n",
              "      <td>English</td>\n",
              "      <td>Ads</td>\n",
              "      <td>Baidu</td>\n",
              "      <td>iPhone</td>\n",
              "      <td>0</td>\n",
              "      <td>1</td>\n",
              "      <td>Female</td>\n",
              "      <td>18</td>\n",
              "      <td>California</td>\n",
              "    </tr>\n",
              "    <tr>\n",
              "      <th>...</th>\n",
              "      <td>...</td>\n",
              "      <td>...</td>\n",
              "      <td>...</td>\n",
              "      <td>...</td>\n",
              "      <td>...</td>\n",
              "      <td>...</td>\n",
              "      <td>...</td>\n",
              "      <td>...</td>\n",
              "      <td>...</td>\n",
              "      <td>...</td>\n",
              "      <td>...</td>\n",
              "      <td>...</td>\n",
              "    </tr>\n",
              "    <tr>\n",
              "      <th>452725</th>\n",
              "      <td>330151</td>\n",
              "      <td>2019-12-01</td>\n",
              "      <td>app</td>\n",
              "      <td>English</td>\n",
              "      <td>Ads</td>\n",
              "      <td>Baidu</td>\n",
              "      <td>Oppo</td>\n",
              "      <td>0</td>\n",
              "      <td>1</td>\n",
              "      <td>Male</td>\n",
              "      <td>21</td>\n",
              "      <td>Georgia</td>\n",
              "    </tr>\n",
              "    <tr>\n",
              "      <th>452726</th>\n",
              "      <td>380950</td>\n",
              "      <td>2019-11-30</td>\n",
              "      <td>app</td>\n",
              "      <td>English</td>\n",
              "      <td>Ads</td>\n",
              "      <td>Google</td>\n",
              "      <td>iPad</td>\n",
              "      <td>1</td>\n",
              "      <td>0</td>\n",
              "      <td>Male</td>\n",
              "      <td>23</td>\n",
              "      <td>Florida</td>\n",
              "    </tr>\n",
              "    <tr>\n",
              "      <th>452727</th>\n",
              "      <td>853589</td>\n",
              "      <td>2019-12-03</td>\n",
              "      <td>app</td>\n",
              "      <td>English</td>\n",
              "      <td>SEO</td>\n",
              "      <td>NaN</td>\n",
              "      <td>iPhone</td>\n",
              "      <td>0</td>\n",
              "      <td>1</td>\n",
              "      <td>Male</td>\n",
              "      <td>50</td>\n",
              "      <td>Michigan</td>\n",
              "    </tr>\n",
              "    <tr>\n",
              "      <th>452730</th>\n",
              "      <td>310774</td>\n",
              "      <td>2019-12-01</td>\n",
              "      <td>app</td>\n",
              "      <td>English</td>\n",
              "      <td>Ads</td>\n",
              "      <td>Google</td>\n",
              "      <td>iPhone</td>\n",
              "      <td>0</td>\n",
              "      <td>0</td>\n",
              "      <td>Female</td>\n",
              "      <td>37</td>\n",
              "      <td>California</td>\n",
              "    </tr>\n",
              "    <tr>\n",
              "      <th>452731</th>\n",
              "      <td>519189</td>\n",
              "      <td>2019-11-30</td>\n",
              "      <td>browser</td>\n",
              "      <td>English</td>\n",
              "      <td>Ads</td>\n",
              "      <td>Baidu</td>\n",
              "      <td>Sumsung</td>\n",
              "      <td>0</td>\n",
              "      <td>0</td>\n",
              "      <td>Male</td>\n",
              "      <td>22</td>\n",
              "      <td>New Jersey</td>\n",
              "    </tr>\n",
              "  </tbody>\n",
              "</table>\n",
              "<p>350119 rows × 12 columns</p>\n",
              "</div>"
            ],
            "text/plain": [
              "        user_id       date interface  ...     sex age          state\n",
              "0        435134 2019-11-30       app  ...  Female  18          Texas\n",
              "1        310928 2019-12-04   browser  ...    Male  28  Massachusetts\n",
              "2        836325 2019-11-30       app  ...  Female  24     California\n",
              "3        298244 2019-12-04   browser  ...    Male  34       Michigan\n",
              "4        614947 2019-12-04       app  ...  Female  18     California\n",
              "...         ...        ...       ...  ...     ...  ..            ...\n",
              "452725   330151 2019-12-01       app  ...    Male  21        Georgia\n",
              "452726   380950 2019-11-30       app  ...    Male  23        Florida\n",
              "452727   853589 2019-12-03       app  ...    Male  50       Michigan\n",
              "452730   310774 2019-12-01       app  ...  Female  37     California\n",
              "452731   519189 2019-11-30   browser  ...    Male  22     New Jersey\n",
              "\n",
              "[350119 rows x 12 columns]"
            ]
          },
          "metadata": {
            "tags": []
          },
          "execution_count": 38
        }
      ]
    },
    {
      "cell_type": "code",
      "metadata": {
        "colab": {
          "base_uri": "https://localhost:8080/"
        },
        "id": "zfTdjyJycIyb",
        "outputId": "38ad9c68-1e9f-482b-c163-e617efd30078"
      },
      "source": [
        "test=stats.ttest_ind(df_new[df_new.condition==1]['conversion'],df_new[df_new.condition==0]['conversion'],equal_var=False)\n",
        "test"
      ],
      "execution_count": 44,
      "outputs": [
        {
          "output_type": "execute_result",
          "data": {
            "text/plain": [
              "Ttest_indResult(statistic=0.36340782173835057, pvalue=0.7163004791299912)"
            ]
          },
          "metadata": {
            "tags": []
          },
          "execution_count": 44
        }
      ]
    },
    {
      "cell_type": "markdown",
      "metadata": {
        "id": "xYMFK_Wbdw6I"
      },
      "source": [
        "The conversion rate of treatment group is slightly higher than control group when NC and IN data are excluded, but such difference is not significant."
      ]
    },
    {
      "cell_type": "code",
      "metadata": {
        "colab": {
          "base_uri": "https://localhost:8080/"
        },
        "id": "csiiFz6jeJNx",
        "outputId": "74bac920-f2d7-438c-9fd2-dfceb907307d"
      },
      "source": [
        "df_new[df_new['condition']==1]['conversion'].mean()"
      ],
      "execution_count": 40,
      "outputs": [
        {
          "output_type": "execute_result",
          "data": {
            "text/plain": [
              "0.05041458610105823"
            ]
          },
          "metadata": {
            "tags": []
          },
          "execution_count": 40
        }
      ]
    },
    {
      "cell_type": "code",
      "metadata": {
        "colab": {
          "base_uri": "https://localhost:8080/"
        },
        "id": "2CTzIDGweSAQ",
        "outputId": "878ab43b-fdbc-4d7a-ceb0-6d845f66e89f"
      },
      "source": [
        "df_new[df_new['condition']==0]['conversion'].mean()"
      ],
      "execution_count": 41,
      "outputs": [
        {
          "output_type": "execute_result",
          "data": {
            "text/plain": [
              "0.050146164673166675"
            ]
          },
          "metadata": {
            "tags": []
          },
          "execution_count": 41
        }
      ]
    }
  ]
}